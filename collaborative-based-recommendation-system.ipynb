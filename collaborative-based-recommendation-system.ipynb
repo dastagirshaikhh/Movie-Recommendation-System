{
 "cells": [
  {
   "cell_type": "code",
   "execution_count": 13,
   "metadata": {},
   "outputs": [],
   "source": [
    "import pandas as pd\n",
    "import numpy as np\n",
    "from sklearn.metrics.pairwise import cosine_similarity\n",
    "import ipywidgets as widgets\n",
    "from IPython.display import display"
   ]
  },
  {
   "cell_type": "code",
   "execution_count": 14,
   "metadata": {},
   "outputs": [],
   "source": [
    "movies = pd.read_csv(\"movies.csv\")\n",
    "ratings = pd.read_csv(\"ratings.csv\")\n",
    "\n",
    "user_item_matrix = ratings.pivot(index=\"userId\", columns=\"movieId\", values=\"rating\").fillna(0)\n",
    "\n",
    "user_similarity = cosine_similarity(user_item_matrix)\n",
    "\n",
    "user_to_idx = {user_id: idx for idx, user_id in enumerate(user_item_matrix.index)}"
   ]
  },
  {
   "cell_type": "code",
   "execution_count": 15,
   "metadata": {},
   "outputs": [],
   "source": [
    "def get_recommendations(target_user_id, K, top_N=10):\n",
    "    target_user_idx = user_to_idx.get(target_user_id, None)\n",
    "\n",
    "    if target_user_idx is None:\n",
    "        return []\n",
    "    \n",
    "    sim_scores = list(enumerate(user_similarity[target_user_idx]))\n",
    "    sim_scores = sorted(sim_scores, key=lambda x: x[1], reverse=True)[1:]\n",
    "\n",
    "    top_K_users = [user for user, _ in sim_scores[:K]]\n",
    "    \n",
    "    recommendations = []\n",
    "\n",
    "    for user in top_K_users:\n",
    "        movies_rated_by_user = user_item_matrix.loc[user_item_matrix.index == user].values\n",
    "        target_user_ratings = user_item_matrix.loc[user_item_matrix.index == target_user_id].values\n",
    "       \n",
    "        unrated_movies = np.where(target_user_ratings == 0, movies_rated_by_user, 0)\n",
    "\n",
    "        movie_indices = np.argsort(unrated_movies[0])[::-1][:top_N]\n",
    "\n",
    "        recommended_movies = user_item_matrix.columns[movie_indices]\n",
    "        recommendations.extend(recommended_movies)\n",
    "\n",
    "    return recommendations[:top_N]"
   ]
  },
  {
   "cell_type": "code",
   "execution_count": 16,
   "metadata": {},
   "outputs": [],
   "source": [
    "user_input = widgets.IntText(value=1, description = \"User ID:\")\n",
    "K_input = widgets.IntSlider(min=1, max=50, step=1, description = \"K:\")\n",
    "top_N_input = widgets.IntSlider(min=1, max=50,step=1, description=\"Top N:\")"
   ]
  },
  {
   "cell_type": "code",
   "execution_count": 17,
   "metadata": {},
   "outputs": [],
   "source": [
    "def update_recommendations(change):\n",
    "    target_user_id = user_input.value\n",
    "    K = K_input.value\n",
    "    top_N = top_N_input.value\n",
    "\n",
    "    recommendations = get_recommendations(target_user_id, K, top_N)\n",
    "\n",
    "    output.clear_output()\n",
    "    with output:\n",
    "        if recommendations:\n",
    "            print(f\"Top {top_N} Recommended Movies for User {target_user_id}:\")\n",
    "            for i, movie_id in enumerate(recommendations):\n",
    "                movie_title = movies[movies[\"movieId\"] == movie_id][\"title\"].values[0]\n",
    "                print(f\"{i+1}. {movie_title}\")\n",
    "        else:\n",
    "            print(\"User not found or not enough data for recommendations.\")"
   ]
  },
  {
   "cell_type": "code",
   "execution_count": 18,
   "metadata": {},
   "outputs": [
    {
     "data": {
      "application/vnd.jupyter.widget-view+json": {
       "model_id": "b334415b2c60405e90c7bb7d0cb09ea3",
       "version_major": 2,
       "version_minor": 0
      },
      "text/plain": [
       "VBox(children=(IntText(value=1, description='User ID:'), IntSlider(value=1, description='K:', max=50, min=1), …"
      ]
     },
     "metadata": {},
     "output_type": "display_data"
    }
   ],
   "source": [
    "search_button = widgets.Button(description = \"Get Recommendations\")\n",
    "search_button.on_click(update_recommendations)\n",
    "\n",
    "output = widgets.Output()\n",
    "layout = widgets.VBox([user_input, K_input, top_N_input, search_button, output])\n",
    "\n",
    "display(layout)"
   ]
  }
 ],
 "metadata": {
  "kernelspec": {
   "display_name": "base",
   "language": "python",
   "name": "python3"
  },
  "language_info": {
   "codemirror_mode": {
    "name": "ipython",
    "version": 3
   },
   "file_extension": ".py",
   "mimetype": "text/x-python",
   "name": "python",
   "nbconvert_exporter": "python",
   "pygments_lexer": "ipython3",
   "version": "3.10.9"
  },
  "orig_nbformat": 4
 },
 "nbformat": 4,
 "nbformat_minor": 2
}
