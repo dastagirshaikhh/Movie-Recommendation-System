{
 "cells": [
  {
   "cell_type": "code",
   "execution_count": 10,
   "metadata": {},
   "outputs": [],
   "source": [
    "import pandas as pd\n",
    "import numpy as np\n",
    "from sklearn.metrics.pairwise import cosine_similarity\n",
    "import ipywidgets as widgets\n",
    "from IPython.display import display\n",
    "from sklearn.feature_extraction.text import TfidfVectorizer\n"
   ]
  },
  {
   "cell_type": "code",
   "execution_count": 11,
   "metadata": {},
   "outputs": [],
   "source": [
    "movies = pd.read_csv(\"movies.csv\")\n",
    "\n",
    "genres = movies[\"genres\"].str.split(\"|\")\n",
    "genres = genres.apply(lambda x: \" \".join(x))\n"
   ]
  },
  {
   "cell_type": "code",
   "execution_count": 12,
   "metadata": {},
   "outputs": [],
   "source": [
    "tfidf_vectorizer = TfidfVectorizer(stop_words=\"english\")\n",
    "tfidf_matrix = tfidf_vectorizer.fit_transform(genres)"
   ]
  },
  {
   "cell_type": "code",
   "execution_count": 13,
   "metadata": {},
   "outputs": [],
   "source": [
    "cosine_sim = cosine_similarity(tfidf_matrix, tfidf_matrix)"
   ]
  },
  {
   "cell_type": "code",
   "execution_count": 14,
   "metadata": {},
   "outputs": [],
   "source": [
    "movie_to_idx = {title: idx for idx, title in enumerate(movies[\"title\"])}"
   ]
  },
  {
   "cell_type": "code",
   "execution_count": 15,
   "metadata": {},
   "outputs": [],
   "source": [
    "def get_recommendation(movie_title, top_N=10):\n",
    "    movie_idx = movie_to_idx.get(movie_title, None)\n",
    "\n",
    "    if movie_idx is None:\n",
    "        return []\n",
    "    \n",
    "    sim_scores = list(enumerate(cosine_sim[movie_idx]))\n",
    "\n",
    "    sim_scores = sorted(sim_scores, key = lambda x: x[1], reverse=True)\n",
    "\n",
    "    tope_N_movies = [movies[\"title\"][i] for i, _ in sim_scores[1:top_N+1]]\n",
    "    \n",
    "    return tope_N_movies"
   ]
  },
  {
   "cell_type": "code",
   "execution_count": 16,
   "metadata": {},
   "outputs": [],
   "source": [
    "movies_input = widgets.Text(placeholder = \"Enter a movie title\", description=\"Movie:\")\n",
    "top_N_input = widgets.IntSlider(min=1, max=50, step=1, description=\"Top N:\")"
   ]
  },
  {
   "cell_type": "code",
   "execution_count": 17,
   "metadata": {},
   "outputs": [],
   "source": [
    "def update_recommendations(change):\n",
    "    movie_title = movies_input.value\n",
    "    top_N = top_N_input.value\n",
    "\n",
    "    recommendations = get_recommendation(movie_title, top_N)\n",
    "\n",
    "    output.clear_output()\n",
    "    with output:\n",
    "        if recommendations:\n",
    "            print(f\"Top {top_N} Recommended Movies for '{movie_title}':\")\n",
    "            for i, movie in enumerate(recommendations):\n",
    "                print(f\"{i+1}. {movie}\")\n",
    "        else:\n",
    "            print(\"Movie not found or not enough data for recommendation\")"
   ]
  },
  {
   "cell_type": "code",
   "execution_count": 18,
   "metadata": {},
   "outputs": [],
   "source": [
    "search_button = widgets.Button(description=\"Get Recommendations\")\n",
    "search_button.on_click(update_recommendations)"
   ]
  },
  {
   "cell_type": "code",
   "execution_count": 20,
   "metadata": {},
   "outputs": [
    {
     "data": {
      "application/vnd.jupyter.widget-view+json": {
       "model_id": "88772d624c44444ebcd1aab9b9a8d60c",
       "version_major": 2,
       "version_minor": 0
      },
      "text/plain": [
       "VBox(children=(Text(value='', description='Movie:', placeholder='Enter a movie title'), IntSlider(value=1, des…"
      ]
     },
     "metadata": {},
     "output_type": "display_data"
    }
   ],
   "source": [
    "output = widgets.Output()\n",
    "layout = widgets.VBox([movies_input, top_N_input, search_button, output])\n",
    "display(layout)"
   ]
  }
 ],
 "metadata": {
  "kernelspec": {
   "display_name": "base",
   "language": "python",
   "name": "python3"
  },
  "language_info": {
   "codemirror_mode": {
    "name": "ipython",
    "version": 3
   },
   "file_extension": ".py",
   "mimetype": "text/x-python",
   "name": "python",
   "nbconvert_exporter": "python",
   "pygments_lexer": "ipython3",
   "version": "3.10.9"
  },
  "orig_nbformat": 4
 },
 "nbformat": 4,
 "nbformat_minor": 2
}
