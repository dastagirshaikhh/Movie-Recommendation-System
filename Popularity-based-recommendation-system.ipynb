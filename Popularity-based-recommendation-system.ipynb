{
 "cells": [
  {
   "cell_type": "code",
   "execution_count": 1,
   "metadata": {},
   "outputs": [],
   "source": [
    "import pandas as pd\n",
    "import ipywidgets as widgets\n",
    "from IPython.display import display"
   ]
  },
  {
   "cell_type": "code",
   "execution_count": 2,
   "metadata": {},
   "outputs": [],
   "source": [
    "movies = pd.read_csv(\"movies.csv\")\n",
    "ratings = pd.read_csv(\"ratings.csv\")\n",
    "movie_ratings = pd.merge(movies, ratings, on=\"movieId\")"
   ]
  },
  {
   "cell_type": "code",
   "execution_count": 3,
   "metadata": {},
   "outputs": [],
   "source": [
    "def get_recommendations(genre, min_rating_threshold, top_N):\n",
    "    genre_movies = movie_ratings[movie_ratings[\"genres\"].str.contains(genre, case=False, regex=True)]\n",
    "\n",
    "    movie_stats = genre_movies.groupby(\"movieId\").agg({\"rating\": ['mean', 'count']})\n",
    "    movie_stats.columns = [\"avg_rating\", \"num_rating\"]\n",
    "\n",
    "    filtered_movies = movie_stats[(movie_stats[\"avg_rating\"] >= min_rating_threshold) & (movie_stats[\"num_rating\"] >= 1)]\n",
    "\n",
    "    top_movies = filtered_movies.sort_values(by=\"avg_rating\", ascending=False).head(top_N)\n",
    "\n",
    "    recommended_movies = pd.merge(top_movies, movies, left_index=True, right_on=\"movieId\")\n",
    "\n",
    "    return recommended_movies[[\"title\", \"avg_rating\", \"num_rating\"]]"
   ]
  },
  {
   "cell_type": "code",
   "execution_count": 4,
   "metadata": {},
   "outputs": [],
   "source": [
    "genre_input = widgets.Text(placeholder=\"Enter a genre\", description=\"Genre:\")\n",
    "rating_threshold_input = widgets.FloatLogSlider(min=0, max=5, step=0.1, description=\"Rating Threshold:\")\n",
    "top_N_input = widgets.IntSlider(min=1, max=50, step=1, description=\"Top N:\")"
   ]
  },
  {
   "cell_type": "code",
   "execution_count": 5,
   "metadata": {},
   "outputs": [],
   "source": [
    "def update_recommendation(change):\n",
    "    genre = genre_input.value\n",
    "    min_rating_threshold = rating_threshold_input.value\n",
    "    top_N = top_N_input.value\n",
    "\n",
    "    recommendations = get_recommendations(genre, min_rating_threshold, top_N)\n",
    "\n",
    "    output.clear_output()\n",
    "    with output:\n",
    "        display(recommendations)"
   ]
  },
  {
   "cell_type": "code",
   "execution_count": 6,
   "metadata": {},
   "outputs": [
    {
     "data": {
      "application/vnd.jupyter.widget-view+json": {
       "model_id": "6d8fc7eb534443db8fbd29f5004734ea",
       "version_major": 2,
       "version_minor": 0
      },
      "text/plain": [
       "VBox(children=(Text(value='', description='Genre:', placeholder='Enter a genre'), FloatLogSlider(value=1.0, de…"
      ]
     },
     "metadata": {},
     "output_type": "display_data"
    }
   ],
   "source": [
    "search_button = widgets.Button(description=\"Get Recommendations\")\n",
    "search_button.on_click(update_recommendation)\n",
    "output = widgets.Output()\n",
    "\n",
    "layout = widgets.VBox([genre_input, rating_threshold_input, top_N_input, search_button, output])\n",
    "\n",
    "display(layout)"
   ]
  }
 ],
 "metadata": {
  "kernelspec": {
   "display_name": "base",
   "language": "python",
   "name": "python3"
  },
  "language_info": {
   "codemirror_mode": {
    "name": "ipython",
    "version": 3
   },
   "file_extension": ".py",
   "mimetype": "text/x-python",
   "name": "python",
   "nbconvert_exporter": "python",
   "pygments_lexer": "ipython3",
   "version": "3.10.9"
  },
  "orig_nbformat": 4
 },
 "nbformat": 4,
 "nbformat_minor": 2
}
